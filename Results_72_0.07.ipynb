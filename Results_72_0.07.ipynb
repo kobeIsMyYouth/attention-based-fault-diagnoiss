{
 "cells": [
  {
   "cell_type": "code",
   "execution_count": 20,
   "metadata": {},
   "outputs": [],
   "source": [
    "import torch\n",
    "import dataLoader\n",
    "from model import CNN_LSTM_0_WTB\n",
    "import numpy as np\n",
    "from keras.utils.np_utils import to_categorical\n",
    "from sklearn.metrics import confusion_matrix\n",
    "import matplotlib.pyplot as plt\n",
    "import matplotlib"
   ]
  },
  {
   "cell_type": "code",
   "execution_count": 35,
   "metadata": {},
   "outputs": [],
   "source": [
    "dl = 0  ## 时延\n",
    "ts = 26 ## 滑窗宽度\n",
    "lb = 1  ## 步长\n",
    "modelPath = \"./checkpoints/WTB_icing/res_26_11/CNN-LSTM-2.t7\"  ## 模型所在地址\n",
    "origTestRoot = \"./data/WTB_icing/orig/test\"\n",
    "testRoot = \"./data/WTB_icing/test\"\n",
    "saveRoot = \"./results/WTB_icing/res_26_1_5/\""
   ]
  },
  {
   "cell_type": "code",
   "execution_count": 3,
   "metadata": {},
   "outputs": [],
   "source": [
    "##### 加载测试数据\n",
    "X_test, y_test, mask_test = dataLoader.window_process2(origTestRoot, testRoot, dl, ts, lb)\n",
    "X_test = np.array(X_test)\n",
    "y_test = np.array(y_test)\n",
    "mask_test = np.array(mask_test)\n",
    "y_test = to_categorical(y_test, 2)\n",
    "\n",
    "# 对数据进行随机打乱\n",
    "permutation = np.random.permutation(X_test.shape[0])\n",
    "X_test = X_test[permutation, :, :, :]\n",
    "y_test = y_test[permutation, :]\n",
    "mask_test = mask_test[permutation, :, :]\n",
    "\n",
    "inputs = torch.Tensor(X_test)\n",
    "target = torch.Tensor(y_test)\n",
    "mask = torch.Tensor(mask_test)  "
   ]
  },
  {
   "cell_type": "code",
   "execution_count": 36,
   "metadata": {},
   "outputs": [
    {
     "name": "stdout",
     "output_type": "stream",
     "text": [
      "86.31219888009915\n"
     ]
    }
   ],
   "source": [
    "##### 加载模型\n",
    "net = CNN_LSTM_0_WTB.CNN_LSTM(ts)\n",
    "checkpoint = torch.load(modelPath)\n",
    "print(checkpoint['best_test_acc'])\n",
    "# net.load_state_dict(checkpoint['net'])"
   ]
  },
  {
   "cell_type": "code",
   "execution_count": 5,
   "metadata": {},
   "outputs": [],
   "source": [
    "##### 运行模型\n",
    "net.eval()\n",
    "with torch.no_grad():\n",
    "    x1_atten, atten1, x1, x2, x3, x4, x = net(inputs, mask)"
   ]
  },
  {
   "cell_type": "code",
   "execution_count": 6,
   "metadata": {},
   "outputs": [],
   "source": [
    "##### 计算测试准确率\n",
    "total = x.size(0)\n",
    "_, predicted = torch.max(x.data, 1)\n",
    "_, trueValue = torch.max(target.data, 1)\n",
    "# correct = predicted.eq(trueValue.data).sum()\n",
    "# acc = int(correct.data) / total\n",
    "# np.savetxt(saveRoot + \"acc.txt\", [acc])"
   ]
  },
  {
   "cell_type": "code",
   "execution_count": 7,
   "metadata": {},
   "outputs": [],
   "source": [
    "##### 获得混淆矩阵\n",
    "cm = confusion_matrix(trueValue.numpy(), predicted.numpy())"
   ]
  },
  {
   "cell_type": "code",
   "execution_count": 8,
   "metadata": {},
   "outputs": [],
   "source": [
    "##### 定义图片上的标签\n",
    "attack_types = ['Normal', 'Icing']"
   ]
  },
  {
   "cell_type": "code",
   "execution_count": 9,
   "metadata": {},
   "outputs": [],
   "source": [
    "##### 定义图片上的字体\n",
    "font = {'family': 'Times New Roman',\n",
    "         'style': 'normal',\n",
    "         'weight': 'bold',\n",
    "        #'color':  'darkred', \n",
    "        'size': 20,\n",
    "        }"
   ]
  },
  {
   "cell_type": "code",
   "execution_count": 10,
   "metadata": {},
   "outputs": [],
   "source": [
    "import itertools\n",
    "import matplotlib.pyplot as plt\n",
    "import numpy as np\n",
    "def plot_confusion_matrix(cm, classes, saveRoot, normalize=False, cmap=plt.cm.Blues):\n",
    "    \"\"\"\n",
    "    This function prints and plots the confusion matrix.\n",
    "    Normalization can be applied by setting `normalize=True`.\n",
    "    Input\n",
    "    - cm : 计算出的混淆矩阵的值\n",
    "    - classes : 混淆矩阵中每一行每一列对应的列\n",
    "    - normalize : True:显示百分比, False:显示个数\n",
    "    \"\"\"\n",
    "    if normalize:\n",
    "        cm = cm.astype('float') / cm.sum(axis=1)[:, np.newaxis]\n",
    "        print(\"Normalized confusion matrix\")\n",
    "    else:\n",
    "        print('Confusion matrix, without normalization')\n",
    "    plt.imshow(cm, interpolation='nearest', cmap=cmap)\n",
    "#     plt.colorbar()\n",
    "    tick_marks = np.arange(len(classes))\n",
    "    plt.xticks(tick_marks, classes, rotation=45)\n",
    "    plt.yticks(tick_marks, classes)\n",
    "    # fmt = '.4f' if normalize else 'd'\n",
    "    thresh = cm.max() / 2.\n",
    "    for i, j in itertools.product(range(cm.shape[0]), range(cm.shape[1])):\n",
    "        if 0 < cm[i, j] < 1:\n",
    "            fmt = '.4f' if normalize else 'd'\n",
    "        else:\n",
    "            fmt = \".0f\" if normalize else \"d\"\n",
    "        plt.text(j, i, format(cm[i, j], fmt),\n",
    "                 horizontalalignment=\"center\",\n",
    "                 color=\"white\" if cm[i, j] > thresh else \"black\")\n",
    "    plt.tight_layout()\n",
    "    plt.ylabel('True categories')\n",
    "    plt.xlabel('Predicted categories')\n",
    "    plt.savefig(saveRoot)"
   ]
  },
  {
   "cell_type": "code",
   "execution_count": 11,
   "metadata": {},
   "outputs": [
    {
     "name": "stdout",
     "output_type": "stream",
     "text": [
      "Normalized confusion matrix\n"
     ]
    },
    {
     "data": {
      "image/png": "[encoded data removed]",
      "text/plain": [
       "<Figure size 432x360 with 1 Axes>"
      ]
     },
     "metadata": {
      "needs_background": "light"
     },
     "output_type": "display_data"
    }
   ],
   "source": [
    "matplotlib.rc('font', **font)\n",
    "plt.figure(figsize=(6, 5))\n",
    "plot_confusion_matrix(cm, classes=attack_types, saveRoot=saveRoot + \"cm.svg\", normalize=True)"
   ]
  },
  {
   "cell_type": "code",
   "execution_count": null,
   "metadata": {},
   "outputs": [],
   "source": []
  }
 ],
 "metadata": {
  "kernelspec": {
   "display_name": "Python 3",
   "language": "python",
   "name": "python3"
  },
  "language_info": {
   "codemirror_mode": {
    "name": "ipython",
    "version": 3
   },
   "file_extension": ".py",
   "mimetype": "text/x-python",
   "name": "python",
   "nbconvert_exporter": "python",
   "pygments_lexer": "ipython3",
   "version": "3.7.7"
  }
 },
 "nbformat": 4,
 "nbformat_minor": 4
}

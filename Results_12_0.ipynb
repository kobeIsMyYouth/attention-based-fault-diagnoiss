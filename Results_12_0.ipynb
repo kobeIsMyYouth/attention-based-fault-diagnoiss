{
 "cells": [
  {
   "cell_type": "code",
   "execution_count": 1,
   "metadata": {},
   "outputs": [
    {
     "name": "stderr",
     "output_type": "stream",
     "text": [
      "Using TensorFlow backend.\n"
     ]
    }
   ],
   "source": [
    "import torch\n",
    "import dataLoader\n",
    "from model import CNN_LSTM_2\n",
    "import numpy as np\n",
    "from keras.utils.np_utils import to_categorical\n",
    "import plot_cm\n",
    "from sklearn.metrics import confusion_matrix\n",
    "import matplotlib.pyplot as plt\n",
    "import matplotlib"
   ]
  },
  {
   "cell_type": "code",
   "execution_count": 2,
   "metadata": {},
   "outputs": [],
   "source": [
    "##### 加载测试数据\n",
    "dl = 0  ## 时延\n",
    "ts = 12 ## 滑窗宽度\n",
    "lb = 1  ## 步长\n",
    "origTestRoot = \"./data/TE chemical process/orig/test\"\n",
    "testRoot = \"./data/TE chemical process/test\"\n",
    "X_test, y_test, mask_test = dataLoader.window_process(origTestRoot, testRoot, dl, 160, ts, lb)\n",
    "X_test = np.array(X_test)\n",
    "y_test = np.array(y_test)\n",
    "mask_test = np.array(mask_test)\n",
    "y_test = to_categorical(y_test, 22)\n",
    "\n",
    "# 对数据进行随机打乱\n",
    "permutation = np.random.permutation(X_test.shape[0])\n",
    "X_test = X_test[permutation, :, :, :]\n",
    "y_test = y_test[permutation, :]\n",
    "mask_test = mask_test[permutation, :, :]\n",
    "\n",
    "inputs = torch.Tensor(X_test)\n",
    "target = torch.Tensor(y_test)\n",
    "mask = torch.Tensor(mask_test)  "
   ]
  },
  {
   "cell_type": "code",
   "execution_count": 3,
   "metadata": {},
   "outputs": [],
   "source": [
    "modelPath = \"./checkpoints/TE chemical process/res_12_2/CNN-LSTM-189.t7\"  ## 模型所在地址\n",
    "saveRoot = \"./results/TE chemical process/res_12_11/\""
   ]
  },
  {
   "cell_type": "code",
   "execution_count": 4,
   "metadata": {},
   "outputs": [
    {
     "data": {
      "text/plain": [
       "<All keys matched successfully>"
      ]
     },
     "execution_count": 4,
     "metadata": {},
     "output_type": "execute_result"
    }
   ],
   "source": [
    "##### 加载模型\n",
    "net = CNN_LSTM_2.CNN_LSTM(ts)\n",
    "checkpoint = torch.load(modelPath)\n",
    "net.load_state_dict(checkpoint['net'])"
   ]
  },
  {
   "cell_type": "code",
   "execution_count": 5,
   "metadata": {},
   "outputs": [],
   "source": [
    "##### 运行模型\n",
    "net.eval()\n",
    "with torch.no_grad():\n",
    "    x1_atten, atten1, x2_atten, atten2, x1, x2, x3, x4, x = net(inputs, mask)"
   ]
  },
  {
   "cell_type": "code",
   "execution_count": 6,
   "metadata": {},
   "outputs": [
    {
     "name": "stdout",
     "output_type": "stream",
     "text": [
      "0.994539706868474\n"
     ]
    }
   ],
   "source": [
    "##### 计算测试准确率\n",
    "total = x.size(0)\n",
    "_, predicted = torch.max(x.data, 1)\n",
    "_, trueValue = torch.max(target.data, 1)\n",
    "correct = predicted.eq(trueValue.data).sum()\n",
    "acc = int(correct.data) / total\n",
    "print(acc)"
   ]
  },
  {
   "cell_type": "code",
   "execution_count": 7,
   "metadata": {},
   "outputs": [],
   "source": [
    "##### 获得混淆矩阵\n",
    "cm = confusion_matrix(trueValue.numpy(), predicted.numpy())"
   ]
  },
  {
   "cell_type": "code",
   "execution_count": 143,
   "metadata": {},
   "outputs": [],
   "source": [
    "##### 定义图片上的标签\n",
    "# attack_types = ['Normal', 'Fault 1', 'Fault 2', 'Fault 3', 'Fault 4', \n",
    "#                 'Fault 5', 'Fault 6', 'Fault 7', 'Fault 8', 'Fault 9', 'Fault 10', 'Fault 11', 'Fault 12','Fault 13', \n",
    "#                 'Fault 14', 'Fault 15', 'Fault 16', 'Fault 17', 'Fault 18', 'Fault 19', 'Fault 20', 'Fault 21']"
   ]
  },
  {
   "cell_type": "code",
   "execution_count": 144,
   "metadata": {},
   "outputs": [],
   "source": [
    "##### 定义图片上的字体\n",
    "# font = {'family': 'Times New Roman',\n",
    "#          'style': 'normal',\n",
    "#          'weight': 'bold',\n",
    "#         #'color':  'darkred', \n",
    "#         'size': 20,\n",
    "#         }"
   ]
  },
  {
   "cell_type": "code",
   "execution_count": 8,
   "metadata": {},
   "outputs": [],
   "source": [
    "FP = cm.sum(axis=0) - np.diag(cm)  \n",
    "FN = cm.sum(axis=1) - np.diag(cm)\n",
    "TP = np.diag(cm)\n",
    "TN = cm.sum() - (FP + FN + TP)"
   ]
  },
  {
   "cell_type": "code",
   "execution_count": 9,
   "metadata": {},
   "outputs": [
    {
     "name": "stdout",
     "output_type": "stream",
     "text": [
      "[0.98504169 1.         1.         0.99625    0.9925     1.\n",
      " 1.         1.         1.         0.9925     0.9975     1.\n",
      " 1.         0.99875    0.99875    0.9925     0.98625    1.\n",
      " 1.         0.98375    1.         0.995     ]\n",
      "[2.20238095e-03 4.98057575e-05 0.00000000e+00 1.04592091e-03\n",
      " 2.49028788e-04 4.98057575e-05 0.00000000e+00 0.00000000e+00\n",
      " 0.00000000e+00 4.48251818e-04 3.48640303e-04 0.00000000e+00\n",
      " 0.00000000e+00 0.00000000e+00 0.00000000e+00 6.97280606e-04\n",
      " 3.98446060e-04 0.00000000e+00 4.98057575e-05 9.96115151e-05\n",
      " 1.49417273e-04 2.49028788e-04]\n"
     ]
    }
   ],
   "source": [
    "TPR = TP/(TP+FN)\n",
    "FPR = FP/(FP+TN)\n",
    "print(TPR)\n",
    "print(FPR)\n",
    "np.savetxt(saveRoot + \"FDR.txt\", TPR)\n",
    "np.savetxt(saveRoot + \"FPR.txt\", FPR)\n",
    "np.savetxt(saveRoot + \"cm.txt\", cm)"
   ]
  },
  {
   "cell_type": "code",
   "execution_count": null,
   "metadata": {},
   "outputs": [],
   "source": []
  }
 ],
 "metadata": {
  "kernelspec": {
   "display_name": "Python 3",
   "language": "python",
   "name": "python3"
  },
  "language_info": {
   "codemirror_mode": {
    "name": "ipython",
    "version": 3
   },
   "file_extension": ".py",
   "mimetype": "text/x-python",
   "name": "python",
   "nbconvert_exporter": "python",
   "pygments_lexer": "ipython3",
   "version": "3.7.10"
  }
 },
 "nbformat": 4,
 "nbformat_minor": 4
}

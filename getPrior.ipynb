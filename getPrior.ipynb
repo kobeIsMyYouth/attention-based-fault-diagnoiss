{
 "cells": [
  {
   "cell_type": "code",
   "execution_count": 1,
   "metadata": {},
   "outputs": [],
   "source": [
    "import numpy as np\n",
    "import os"
   ]
  },
  {
   "cell_type": "code",
   "execution_count": 2,
   "metadata": {},
   "outputs": [],
   "source": [
    "files = sorted(os.listdir(\"./data/WTB_icing/orig/train\"))"
   ]
  },
  {
   "cell_type": "code",
   "execution_count": 3,
   "metadata": {},
   "outputs": [
    {
     "name": "stdout",
     "output_type": "stream",
     "text": [
      "['.DS_Store', '15_0.csv', '15_1.csv', '15_10.csv', '15_11.csv', '15_12.csv', '15_13.csv', '15_14.csv', '15_15.csv', '15_16.csv', '15_17.csv', '15_18.csv', '15_19.csv', '15_2.csv', '15_20.csv', '15_21.csv', '15_22.csv', '15_23.csv', '15_24.csv', '15_3.csv', '15_4.csv', '15_5.csv', '15_6.csv', '15_7.csv', '15_8.csv', '15_9.csv']\n"
     ]
    }
   ],
   "source": [
    "print(files)"
   ]
  },
  {
   "cell_type": "code",
   "execution_count": 4,
   "metadata": {},
   "outputs": [
    {
     "name": "stdout",
     "output_type": "stream",
     "text": [
      "[[ 1.8599933   1.22359452  2.5157897  ...  0.          1.56\n",
      "   0.        ]\n",
      " [ 1.91162483  1.29339443  2.31355142 ...  2.88       -2.6\n",
      "   0.        ]\n",
      " [ 1.63502736  1.28009921  2.50779859 ...  0.6         2.56\n",
      "   0.        ]\n",
      " ...\n",
      " [ 0.63190053  1.25018497  0.83271262 ...  0.24        2.\n",
      "   0.        ]\n",
      " [ 0.79417105  1.28009921  0.87076998 ...  1.72       -0.68\n",
      "   0.        ]\n",
      " [ 0.76466731  1.26348018  0.70752643 ...  2.04        1.6\n",
      "   0.        ]]\n",
      "15_1.csv\n",
      "15_10.csv\n",
      "15_11.csv\n",
      "15_12.csv\n",
      "15_13.csv\n",
      "15_14.csv\n",
      "15_15.csv\n",
      "15_16.csv\n",
      "15_17.csv\n",
      "15_18.csv\n",
      "15_19.csv\n",
      "15_2.csv\n",
      "15_20.csv\n",
      "15_21.csv\n",
      "15_22.csv\n",
      "15_23.csv\n",
      "15_24.csv\n",
      "15_3.csv\n",
      "15_4.csv\n",
      "15_5.csv\n",
      "15_6.csv\n",
      "15_7.csv\n",
      "15_8.csv\n",
      "15_9.csv\n"
     ]
    }
   ],
   "source": [
    "path = \"./data/WTB_icing/orig/train/\" + \"15_0.csv\"\n",
    "data = np.loadtxt(path, delimiter=',')\n",
    "data = data[data[:,26] == 0]\n",
    "print(data)\n",
    "data_normal = data\n",
    "for file in files:\n",
    "    if file != \"15_0.csv\" and not file.startswith(\".\"):\n",
    "        print(file)\n",
    "        path = \"./data/WTB_icing/orig/train/\" + file\n",
    "        data = np.loadtxt(path, delimiter=',')\n",
    "        data = data[data[:,26] == 0]\n",
    "        data_normal = np.vstack((data_normal, data))"
   ]
  },
  {
   "cell_type": "code",
   "execution_count": 5,
   "metadata": {},
   "outputs": [
    {
     "name": "stdout",
     "output_type": "stream",
     "text": [
      "(350255, 27)\n"
     ]
    }
   ],
   "source": [
    "print(data_normal.shape)"
   ]
  },
  {
   "cell_type": "code",
   "execution_count": 6,
   "metadata": {},
   "outputs": [],
   "source": [
    "means = np.mean(data_normal, axis = 0)"
   ]
  },
  {
   "cell_type": "code",
   "execution_count": 7,
   "metadata": {},
   "outputs": [
    {
     "data": {
      "text/plain": [
       "array([-1.85915946e-01, -1.31509263e-01, -1.39657326e-01, -3.59097570e-02,\n",
       "       -2.70650758e-02,  4.26764613e-02, -3.85564866e-03,  3.74348365e-01,\n",
       "        3.70697032e-01,  3.81080324e-01,  6.91381993e-04,  6.30169448e-04,\n",
       "        4.90728184e-04, -1.11710318e+00, -1.13424632e+00, -1.11373448e+00,\n",
       "        8.60463483e-02, -1.49476772e-01, -3.72495996e-01, -4.35760600e-01,\n",
       "        9.03473728e-01,  9.05582834e-01,  8.78406163e-01,  2.28296984e-01,\n",
       "        3.83435725e-01,  3.52976888e-01,  0.00000000e+00])"
      ]
     },
     "execution_count": 7,
     "metadata": {},
     "output_type": "execute_result"
    }
   ],
   "source": [
    "means"
   ]
  },
  {
   "cell_type": "code",
   "execution_count": 8,
   "metadata": {},
   "outputs": [],
   "source": [
    "stds = np.std(data_normal, axis = 0)"
   ]
  },
  {
   "cell_type": "code",
   "execution_count": 9,
   "metadata": {},
   "outputs": [
    {
     "name": "stdout",
     "output_type": "stream",
     "text": [
      "[0.9448405  0.98662713 0.92148589 1.0658322  1.13297749 0.90557534\n",
      " 0.17773809 0.76059841 0.75659649 0.75882309 0.39212917 0.39342255\n",
      " 0.36618457 0.74908148 0.71080943 0.70671944 0.83714621 0.69584034\n",
      " 1.0720593  1.11021365 0.24048811 0.23958065 0.22148348 1.03432069\n",
      " 0.98699374 1.15143397 0.        ]\n"
     ]
    }
   ],
   "source": [
    "print(stds)"
   ]
  },
  {
   "cell_type": "code",
   "execution_count": 10,
   "metadata": {},
   "outputs": [],
   "source": [
    "np.savetxt(\"./data/prior/means.txt\", means)\n",
    "np.savetxt(\"./data/prior/stds.txt\", stds)"
   ]
  },
  {
   "cell_type": "code",
   "execution_count": null,
   "metadata": {},
   "outputs": [],
   "source": []
  }
 ],
 "metadata": {
  "kernelspec": {
   "display_name": "Python 3",
   "language": "python",
   "name": "python3"
  },
  "language_info": {
   "codemirror_mode": {
    "name": "ipython",
    "version": 3
   },
   "file_extension": ".py",
   "mimetype": "text/x-python",
   "name": "python",
   "nbconvert_exporter": "python",
   "pygments_lexer": "ipython3",
   "version": "3.7.7"
  }
 },
 "nbformat": 4,
 "nbformat_minor": 5
}

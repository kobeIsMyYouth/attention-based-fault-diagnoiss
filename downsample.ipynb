{
 "cells": [
  {
   "cell_type": "code",
   "execution_count": 3,
   "metadata": {},
   "outputs": [],
   "source": [
    "import pandas as pd\n",
    "import numpy as np\n",
    "import os"
   ]
  },
  {
   "cell_type": "code",
   "execution_count": 4,
   "metadata": {},
   "outputs": [],
   "source": [
    "files = sorted(os.listdir(\"./data/WTB_icing/train\"))"
   ]
  },
  {
   "cell_type": "code",
   "execution_count": 5,
   "metadata": {},
   "outputs": [
    {
     "name": "stdout",
     "output_type": "stream",
     "text": [
      "['.DS_Store', '15_0.csv', '15_1.csv', '15_10.csv', '15_11.csv', '15_12.csv', '15_13.csv', '15_14.csv', '15_15.csv', '15_16.csv', '15_17.csv', '15_18.csv', '15_19.csv', '15_2.csv', '15_20.csv', '15_21.csv', '15_22.csv', '15_23.csv', '15_24.csv', '15_3.csv', '15_4.csv', '15_5.csv', '15_6.csv', '15_7.csv', '15_8.csv', '15_9.csv']\n"
     ]
    }
   ],
   "source": [
    "print(files)"
   ]
  },
  {
   "cell_type": "code",
   "execution_count": null,
   "metadata": {},
   "outputs": [],
   "source": [
    "for file in files:\n",
    "    if not file.startswith(\".\"):\n",
    "        data = pd.read_csv(\"./data/WTB_icing/train/\" + file)\n",
    "        chekpoints = np.sum(data.values[:, 26] == 0)\n",
    "        faults = data.values.shape[0] - chekpoints\n",
    "        downsamples = chekpoints - faults\n",
    "        "
   ]
  }
 ],
 "metadata": {
  "kernelspec": {
   "display_name": "Python 3",
   "language": "python",
   "name": "python3"
  },
  "language_info": {
   "codemirror_mode": {
    "name": "ipython",
    "version": 3
   },
   "file_extension": ".py",
   "mimetype": "text/x-python",
   "name": "python",
   "nbconvert_exporter": "python",
   "pygments_lexer": "ipython3",
   "version": "3.7.7"
  }
 },
 "nbformat": 4,
 "nbformat_minor": 4
}
